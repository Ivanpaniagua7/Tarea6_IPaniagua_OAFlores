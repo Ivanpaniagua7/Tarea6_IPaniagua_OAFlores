{
 "cells": [
  {
   "cell_type": "markdown",
   "metadata": {},
   "source": [
    "<img style=\"float: left; margin: 110px 30px 30px 30px;\" src=\"https://pngimage.net/wp-content/uploads/2018/06/logo-iteso-png-5.png\" width=\"300\" height=\"500\" /> \n",
    "    \n",
    "    \n",
    "### <font color='navy'> Simulación de procesos financieros. \n",
    "\n",
    "**Nombres:** \n",
    "\n",
    "FLORES OROZCO, OSCAR ALFONSO.\n",
    "\n",
    "PANIAGUA GARCÍA DE LEÓN, IVÁN\n",
    "\n",
    "**Fecha:** 05 de marzo del 2020.\n",
    "\n",
    "**Expedientes** :  710183 y 709025\n",
    "\n",
    "**Profesor:** Oscar David Jaramillo Zuluaga.\n",
    "\n",
    "# Tarea 6: Clase 9 y 10"
   ]
  },
  {
   "cell_type": "markdown",
   "metadata": {},
   "source": [
    "### Ejercicio 1:"
   ]
  },
  {
   "cell_type": "markdown",
   "metadata": {},
   "source": [
    "> ## <font color ='red'>Tarea\n",
    "Seguir un procedimiento similar al mostrado cuando se generó una distribución binomial, pero en esta caso genere un código que genere variables aletorias Poisson cuya función de distribución de probabilidad esta dada por:\n",
    ">$$P(k,\\lambda)=\\frac{e^{-\\lambda}(\\lambda)^k}{k!}$$\n",
    ">   \n",
    "> Demuestre matemáticamente que \n",
    "> $$P(k+1)=\\frac{\\lambda}{k+1}P(k)$$\n",
    "> y a partir de esta relación genere variables aletorias que distribuyen poisson usando el método de la transformada inversa.\n",
    "\n",
    "Enlace: https://es.wikipedia.org/wiki/Distribuci%C3%B3n_de_Poisson"
   ]
  },
  {
   "cell_type": "markdown",
   "metadata": {},
   "source": [
    "Demostrar que:\n",
    "\n",
    "\\begin{align*} \n",
    "P(k+1)&=\\frac{\\lambda}{k+1}P(k):\\\\\n",
    "\\end{align*}"
   ]
  },
  {
   "cell_type": "markdown",
   "metadata": {},
   "source": [
    "\\begin{align*}\n",
    "\\frac{P(k+1)}{P(k)} &= \\frac{\\frac{\\lambda}{k+1} · \\frac{e^{-\\lambda}(\\lambda)^k}{k!}}{\\frac{e^{-\\lambda}\\lambda^k}{k!}} \\\\\n",
    "\\frac{P(k+1)}{P(k)} &= \\frac{\\frac{e^{-\\lambda}\\lambda^k · \\lambda}{(k+1) ·k!}}{\\frac{e^{-\\lambda}\\lambda^k}{k!}} \\\\\n",
    "\\frac{P(k+1)}{P(k)} &= \\frac{e^{-\\lambda} · \\lambda^{{k+1}} · k!}{(k+1)! · e^{\\lambda} · \\lambda^k} \\\\\n",
    "\\frac{P(k+1)}{P(k)} &= \\frac{\\lambda^{k+1-k}· k!}{(k+1)· k!} \\\\\n",
    "\\frac{P(k+1)}{P(k)} &= \\frac{\\lambda}{(k+1)} \\\\\n",
    "P(k+1) &= \\frac{\\lambda}{(k+1)}· P(k)\n",
    "\\end{align*}"
   ]
  },
  {
   "cell_type": "markdown",
   "metadata": {},
   "source": [
    "### Una vez demostrada la ecuación, vamos a generar variables aletorias que distribuyen poisson usando el método de la transformada inversa."
   ]
  },
  {
   "cell_type": "code",
   "execution_count": 1,
   "metadata": {},
   "outputs": [
    {
     "data": {
      "text/html": [
       " <style> .output {display: center; align-items: center; text-align: center; justify-content: center; } </style> "
      ],
      "text/plain": [
       "<IPython.core.display.HTML object>"
      ]
     },
     "metadata": {},
     "output_type": "display_data"
    }
   ],
   "source": [
    "import numpy as np\n",
    "import matplotlib.pyplot as plt\n",
    "\n",
    "from IPython.display import display, HTML\n",
    "display(HTML(\"\"\" <style> .output {display: center; align-items: center; text-align: center; justify-content: center; } </style> \"\"\"))"
   ]
  },
  {
   "cell_type": "code",
   "execution_count": 2,
   "metadata": {},
   "outputs": [],
   "source": [
    "def Poisson(k,l): #lambda y k, para coincidir con la demostracion\n",
    "    global Pr\n",
    "    Pr = np.zeros(k)\n",
    "    Pr[0] = np.exp(-l)\n",
    "    def poi(i):\n",
    "        global Pr\n",
    "        x  = (l)/(i+1)\n",
    "        Pr[i+1]=(x*Pr[i])    \n",
    "    [poi(i) for i in range(k-1)]\n",
    "    return np.cumsum(Pr)"
   ]
  },
  {
   "cell_type": "code",
   "execution_count": 3,
   "metadata": {},
   "outputs": [],
   "source": [
    "l = 4\n",
    "k = 10\n",
    "n=10000\n",
    "\n",
    "func_poisson = Poisson(k,l)\n",
    "\n",
    "random = np.random.rand(n)"
   ]
  },
  {
   "cell_type": "code",
   "execution_count": 64,
   "metadata": {},
   "outputs": [],
   "source": [
    "font = {'family': 'serif',\n",
    "        'color':  'C7',\n",
    "        'weight': 'normal',\n",
    "        'size': 16,\n",
    "        }"
   ]
  },
  {
   "cell_type": "code",
   "execution_count": 65,
   "metadata": {},
   "outputs": [
    {
     "data": {
      "image/png": "[encoded data removed]",
      "text/plain": [
       "<Figure size 1152x432 with 2 Axes>"
      ]
     },
     "metadata": {
      "needs_background": "light"
     },
     "output_type": "display_data"
    }
   ],
   "source": [
    "PoissonDistribucion = list(map(lambda j:sum(1 for i in func_poisson if i<random[j]),range(n)))\n",
    "\n",
    "fig,(ax1,ax2) = plt.subplots(1,2, figsize = (16,6))\n",
    "\n",
    "#Plot1: Poisson\n",
    "ax1.set_title(\"Distribución de Poisson\", fontdict= font)\n",
    "ax1.set_facecolor(\"c\")\n",
    "ax1.hist(PoissonDistribucion,bins=40,density=True, color = \"#eafff5\")\n",
    "\n",
    "#Plot2: Poisson Accumulated\n",
    "ax2.set_title(\"Poisson Acumulado\", fontdict= font)\n",
    "ax2.set_facecolor(\"#eafff5\")\n",
    "ax2.plot(func_poisson,\"o-\", color = \"c\", label = \"acum\")\n",
    "plt.show()"
   ]
  },
  {
   "cell_type": "markdown",
   "metadata": {},
   "source": [
    "***\n",
    "### Ejercicio 2:"
   ]
  },
  {
   "cell_type": "markdown",
   "metadata": {},
   "source": [
    "Partiendo que se desea generar variables aleatorias para la siguiente función de densidad\n",
    "$$f(x)=30(x^2-2x^3+x^4)$$\n",
    "Responda los siguientes literales:\n",
    "1. Usar como función que mayora a $f(x)$ a $t(x)=a \\sin(\\pi x)$ donde a es el máximo de la función $f(x)$ y graficarlas en una misma gráfica, para validar que en realidad si cumple la condición $t(x)\\geq f(x)$.\n",
    "2. Encontrar la función de densidad $g(x)$ según lo visto en clase. Reportar todos los cálculos realizados para encontrar dicha función usando Markdown (Latex).\n",
    "3. Usar la función encontrada en el punto 2 y utilizar el método de la transformada inversa visto en la clase 9, para generar variables aleatorias que sigan la distribución $g(x)$. **Nota:** Recuerde que el método de la transformada inversa funciona con la distribución de probabilidad acumulada y no con su densidad. Nuevamente similar al punto anterior reportar todos los cálculos usando Markdown (Latex). \n",
    "4. Según el punto 3, generar 10000 puntos aleatorios que sigan la distribución $g(x)$ y comparar con su histograma para validar que los puntos generados siguen la distribución deseada. El resultado debe ser como sigue:\n",
    "5. Genere 500 puntos aleatorios usando el método de aceptación y rechazo y las funciones $f(x)$ y $t(x)$ para validar que todos los cálculos anteriores están correctamente realizados. El resultado debe de ser como sigue:\n",
    "6. Comparar el porcentaje de puntos de aceptación cuando se usa $t(x)$ constante y $t(x)$ un pulso senoidal. Concluir\n",
    "7. Genere una variable aleatoria $X$ a partir de la siguiente PDF\n",
    "$$f(x)=20x(1-x)^3$$ \n",
    "usando el método de aceptación y rechazo"
   ]
  },
  {
   "cell_type": "code",
   "execution_count": 1,
   "metadata": {},
   "outputs": [],
   "source": [
    "from scipy import optimize\n",
    "from scipy.stats import beta\n",
    "import matplotlib.pyplot as plt\n",
    "import numpy as np\n",
    "%matplotlib inline"
   ]
  },
  {
   "cell_type": "markdown",
   "metadata": {},
   "source": [
    "# Tarea \n",
    "Partiendo que se desea generar variables aleatorias para la siguiente función de densidad\n",
    "$$f(x)=30(x^2-2x^3+x^4)$$\n",
    "Responda los siguientes literales:\n",
    "1. Usar como función que mayora a $f(x)$ a $t(x)=a \\sin(\\pi x)$ donde a es el máximo de la función $f(x)$ y graficarlas en una misma gráfica, para validar que en realidad si cumple la condición $t(x)\\geq f(x)$."
   ]
  },
  {
   "cell_type": "code",
   "execution_count": 2,
   "metadata": {},
   "outputs": [],
   "source": [
    "from scipy import optimize\n",
    "from scipy.stats import beta\n",
    "import matplotlib.pyplot as plt\n",
    "import numpy as np\n",
    "%matplotlib inline"
   ]
  },
  {
   "cell_type": "code",
   "execution_count": 5,
   "metadata": {},
   "outputs": [
    {
     "data": {
      "text/plain": [
       "<matplotlib.legend.Legend at 0x235fb721a20>"
      ]
     },
     "execution_count": 5,
     "metadata": {},
     "output_type": "execute_result"
    },
    {
     "data": {
      "image/png": "[encoded data removed]",
      "text/plain": [
       "<Figure size 432x288 with 1 Axes>"
      ]
     },
     "metadata": {},
     "output_type": "display_data"
    }
   ],
   "source": [
    "b=0\n",
    "c=100\n",
    "intervalos=0.01\n",
    "N=200\n",
    "R2 = np.random.rand(N)\n",
    "R1 = np.random.uniform(b,c,N)\n",
    "x = np.arange(b,c,intervalos)\n",
    "\n",
    "# Función objetivo \n",
    "f = lambda x:30*((x/c)**2-2*(x/c)**3+(x/c)**4)\n",
    "# Máximo de la función f\n",
    "a = f(optimize.fmin(lambda x:-f(x),0,disp=False))\n",
    "# Función t -> Función senoidal\n",
    "t = lambda x: a*np.sin(np.pi*(x/c)*np.ones(len(x))) # función senoidal\n",
    "\n",
    "plt.plot(x,f(x),label='f(x)')\n",
    "plt.plot(x,t(x),label='t(x)')\n",
    "plt.legend()"
   ]
  },
  {
   "cell_type": "markdown",
   "metadata": {},
   "source": [
    "2. Encontrar la función de densidad $g(x)$ según lo visto en clase. Reportar todos los cálculos realizados para encontrar dicha función usando Markdown (Latex)."
   ]
  },
  {
   "cell_type": "code",
   "execution_count": null,
   "metadata": {},
   "outputs": [],
   "source": []
  }
 ],
 "metadata": {
  "kernelspec": {
   "display_name": "Python 3",
   "language": "python",
   "name": "python3"
  },
  "language_info": {
   "codemirror_mode": {
    "name": "ipython",
    "version": 3
   },
   "file_extension": ".py",
   "mimetype": "text/x-python",
   "name": "python",
   "nbconvert_exporter": "python",
   "pygments_lexer": "ipython3",
   "version": "3.6.5"
  }
 },
 "nbformat": 4,
 "nbformat_minor": 2
}
